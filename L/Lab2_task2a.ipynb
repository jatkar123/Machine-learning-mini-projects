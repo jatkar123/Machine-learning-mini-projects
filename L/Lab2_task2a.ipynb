{
 "cells": [
  {
   "cell_type": "markdown",
   "metadata": {},
   "source": [
    "# Python  TASK 2-a\n",
    "## Name- Jatin Karthik\n",
    "## Matriculation no.-313301"
   ]
  },
  {
   "cell_type": "markdown",
   "metadata": {},
   "source": [
    "![](mll.png)"
   ]
  },
  {
   "cell_type": "markdown",
   "metadata": {},
   "source": [
    "Referenced from 'https://medium.com/analytics-vidhya/machine-learning-101-linear-regression-using-the-ols-method-299808eab233'"
   ]
  },
  {
   "cell_type": "markdown",
   "metadata": {},
   "source": [
    "Multiple linear regression attempts to model the relationship between two or more explanatory variables and a response variable by fitting a linear equation to observed data. Every value of the independent variable x is associated with a value of the dependent variable y. The population regression line for p explanatory variables x1, x2, ... , xp is defined to be y = 0 + 1x1 + 2x2 + ... + pxp. This line describes how the mean response y changes with the explanatory variables. The observed values for y vary about their means y and are assumed to have the same standard deviation . The fitted values b0, b1, ..., bp estimate the parameters 0, 1, ..., p of the population regression line."
   ]
  },
  {
   "cell_type": "code",
   "execution_count": 50,
   "metadata": {},
   "outputs": [],
   "source": [
    "import numpy as np\n",
    "import matplotlib.pyplot as plt\n",
    "import pandas as pd\n",
    "import sys"
   ]
  },
  {
   "cell_type": "code",
   "execution_count": 80,
   "metadata": {},
   "outputs": [],
   "source": [
    "X=np.random.normal(2,0.01,(100,10))  #Defining 100x10 of normalised random distribution with mean=2 and std=0.01\n",
    "\n",
    "X=np.hstack((np.ones((100,1)),X))   #concatenating/stacking one column of ones for beta0 constant"
   ]
  },
  {
   "cell_type": "code",
   "execution_count": 52,
   "metadata": {},
   "outputs": [],
   "source": [
    "Y=np.random.uniform(0,1,(100,1)) # Defining 100x1 uniformly distributed Y matrix\n",
    "\n",
    "#Y=np.random.rand(100,1)         # Both these functions can be used"
   ]
  },
  {
   "cell_type": "code",
   "execution_count": 63,
   "metadata": {},
   "outputs": [
    {
     "data": {
      "image/png": "[encoded data removed]",
      "text/plain": [
       "<Figure size 432x288 with 1 Axes>"
      ]
     },
     "metadata": {
      "needs_background": "light"
     },
     "output_type": "display_data"
    }
   ],
   "source": [
    "plt.plot(X, Y, \"b.\")  # Plotting a scatter plot of X and Y \n",
    "plt.xlabel(\"$X$\", fontsize=15)\n",
    "plt.ylabel(\"$Y$\", rotation=0, fontsize=15)\n",
    "plt.axis([1.95, 2.03, 0, 1.2])\n",
    "plt.show()"
   ]
  },
  {
   "cell_type": "markdown",
   "metadata": {},
   "source": [
    " "
   ]
  },
  {
   "cell_type": "code",
   "execution_count": 64,
   "metadata": {},
   "outputs": [],
   "source": [
    "\n",
    "#x=np.zeros(n)\n"
   ]
  },
  {
   "cell_type": "code",
   "execution_count": 65,
   "metadata": {},
   "outputs": [],
   "source": [
    "def gauss_method(a,b):\n",
    "    n = len(b) #n is matrix size\n",
    "\n",
    "#Elimination phase\n",
    "    for k in range(0,n-1): #k is matrix rows\n",
    "            for i in range(k+1,n): #i is matrix columns\n",
    "                      if a[i,k] != 0.0:   #checking if the value is 0 or not\n",
    "                        f = a[i,k]/a[k,k]\n",
    "                        a[i,k+1:n] = a[i,k+1:n] - (f*a[k,k+1:n])  #motive is to make the lower traingular matrix 0\n",
    "                        b[i] = b[i] - (f*b[k])                    #and then update these values\n",
    "\n",
    "#Backward solve and subsitution\n",
    "    for k in range(n-1,-1,-1):                         #doing a similar thing as above but for the other half of the diagonal\n",
    "            b[k] = (b[k] - (a[k,k+1:n]@b[k+1:n]))/a[k,k]\n",
    "\n",
    "\n",
    "    return b"
   ]
  },
  {
   "cell_type": "code",
   "execution_count": 66,
   "metadata": {},
   "outputs": [
    {
     "data": {
      "text/plain": [
       "array([[-12.46704248],\n",
       "       [ -2.09952121],\n",
       "       [ -0.92912883],\n",
       "       [ -2.39805262],\n",
       "       [  3.71216705],\n",
       "       [  1.98075865],\n",
       "       [  2.11897629],\n",
       "       [  0.69420387],\n",
       "       [  3.64599959],\n",
       "       [ -1.33212917],\n",
       "       [  1.08868935]])"
      ]
     },
     "execution_count": 66,
     "metadata": {},
     "output_type": "execute_result"
    }
   ],
   "source": [
    "# These are the mathematical operations for calculation beta value using the inverse defined function\n",
    "\n",
    "beta=gauss_method(X.T.dot(X),X.T.dot(Y))   #since a and b parameters are A and Y in the equation \"AX=Y\", so passing these transposed and multiplied vectors as parameters\n",
    "beta"
   ]
  },
  {
   "cell_type": "code",
   "execution_count": 67,
   "metadata": {},
   "outputs": [
    {
     "data": {
      "text/plain": [
       "array([[-12.46704248],\n",
       "       [ -2.09952121],\n",
       "       [ -0.92912883],\n",
       "       [ -2.39805262],\n",
       "       [  3.71216705],\n",
       "       [  1.98075865],\n",
       "       [  2.11897629],\n",
       "       [  0.69420387],\n",
       "       [  3.64599959],\n",
       "       [ -1.33212917],\n",
       "       [  1.08868935]])"
      ]
     },
     "execution_count": 67,
     "metadata": {},
     "output_type": "execute_result"
    }
   ],
   "source": [
    "beta = np.linalg.inv(X.T.dot(X)).dot(X.T).dot(Y) #to check if the beta values obtained are correct or not\n",
    "beta"
   ]
  },
  {
   "cell_type": "code",
   "execution_count": 77,
   "metadata": {},
   "outputs": [],
   "source": [
    "#Y_predicted1=np.matmul(X,beta)\n",
    "Y_predicted1=X@beta          #obtaining the y_cap that is the predicted y values by multiplying X and beta"
   ]
  },
  {
   "cell_type": "code",
   "execution_count": 59,
   "metadata": {},
   "outputs": [
    {
     "data": {
      "text/plain": [
       "<matplotlib.collections.PathCollection at 0x24afe2ea520>"
      ]
     },
     "execution_count": 59,
     "metadata": {},
     "output_type": "execute_result"
    },
    {
     "data": {
      "image/png": "[encoded data removed]",
      "text/plain": [
       "<Figure size 432x288 with 1 Axes>"
      ]
     },
     "metadata": {
      "needs_background": "light"
     },
     "output_type": "display_data"
    }
   ],
   "source": [
    "plt.scatter(X[:,1:2],Y, c='red')    # Plotting the X and Y scatter plot\n",
    "plt.scatter(X[:,1:2],Y_predicted1)   #Plotting the X and Y_predicted scatter plot\n",
    "\n",
    "#plt.scatter(Y,Y_predicted1, c='green')"
   ]
  },
  {
   "cell_type": "code",
   "execution_count": 60,
   "metadata": {},
   "outputs": [
    {
     "data": {
      "text/plain": [
       "<matplotlib.collections.PathCollection at 0x24afe3397c0>"
      ]
     },
     "execution_count": 60,
     "metadata": {},
     "output_type": "execute_result"
    },
    {
     "data": {
      "image/png": "[encoded data removed]",
      "text/plain": [
       "<Figure size 432x288 with 1 Axes>"
      ]
     },
     "metadata": {
      "needs_background": "light"
     },
     "output_type": "display_data"
    }
   ],
   "source": [
    "\n",
    "plt.scatter(list(range(100)),Y)\n",
    "plt.scatter(list(range(100)),Y_predicted1)\n",
    "#plt.plot(X[:,1:2],Y_predicted1)  #Plotting the Y_predicted i.e the y=b0+b1*x values"
   ]
  },
  {
   "cell_type": "code",
   "execution_count": 78,
   "metadata": {},
   "outputs": [
    {
     "name": "stdout",
     "output_type": "stream",
     "text": [
      "[[-12.46704248]\n",
      " [ -2.09952121]\n",
      " [ -0.92912883]\n",
      " [ -2.39805262]\n",
      " [  3.71216705]\n",
      " [  1.98075865]\n",
      " [  2.11897629]\n",
      " [  0.69420387]\n",
      " [  3.64599959]\n",
      " [ -1.33212917]\n",
      " [  1.08868935]]\n"
     ]
    },
    {
     "data": {
      "text/plain": [
       "<matplotlib.collections.PathCollection at 0x24a802d11c0>"
      ]
     },
     "execution_count": 78,
     "metadata": {},
     "output_type": "execute_result"
    },
    {
     "data": {
      "image/png": "[encoded data removed]",
      "text/plain": [
       "<Figure size 432x288 with 1 Axes>"
      ]
     },
     "metadata": {
      "needs_background": "light"
     },
     "output_type": "display_data"
    }
   ],
   "source": [
    "B_nm= np.linalg.lstsq(X,Y,rcond=None)[0]\n",
    "print(B_nm)\n",
    "plt.scatter(B_nm,list(range(11)))"
   ]
  },
  {
   "cell_type": "markdown",
   "metadata": {},
   "source": [
    "References used:\n",
    "https://www.youtube.com/watch?v=r89yH82OAFw\n",
    "https://medium.com/machine-learning-with-python/multiple-linear-regression-implementation-in-python-2de9b303fc0c\n",
    "https://medium.com/analytics-vidhya/multiple-linear-regression-from-scratch-using-only-numpy-98fc010a1926\n",
    "https://www.youtube.com/watch?v=T0PRiF7X__g\n",
    "https://stackoverflow.com/questions/33907776/how-to-create-an-array-of-dataframes-in-python\n"
   ]
  },
  {
   "cell_type": "code",
   "execution_count": null,
   "metadata": {},
   "outputs": [],
   "source": []
  }
 ],
 "metadata": {
  "kernelspec": {
   "display_name": "Python 3",
   "language": "python",
   "name": "python3"
  },
  "language_info": {
   "codemirror_mode": {
    "name": "ipython",
    "version": 3
   },
   "file_extension": ".py",
   "mimetype": "text/x-python",
   "name": "python",
   "nbconvert_exporter": "python",
   "pygments_lexer": "ipython3",
   "version": "3.8.5"
  }
 },
 "nbformat": 4,
 "nbformat_minor": 4
}
